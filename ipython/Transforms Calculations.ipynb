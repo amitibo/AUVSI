{
 "cells": [
  {
   "cell_type": "code",
   "execution_count": 11,
   "metadata": {
    "collapsed": true
   },
   "outputs": [],
   "source": [
    "from __future__ import division\n",
    "import os\n",
    "import numpy as np\n",
    "import exifread\n",
    "import cv2\n",
    "import AUVSIcv\n",
    "import glob"
   ]
  },
  {
   "cell_type": "code",
   "execution_count": 2,
   "metadata": {
    "collapsed": false
   },
   "outputs": [
    {
     "name": "stdout",
     "output_type": "stream",
     "text": [
      "EXIF ApertureValue\n",
      "EXIF CameraOwnerName\n",
      "EXIF ColorSpace\n",
      "EXIF ComponentsConfiguration\n",
      "EXIF CompressedBitsPerPixel\n",
      "EXIF CustomRendered\n",
      "EXIF DateTimeDigitized\n",
      "EXIF DateTimeOriginal\n",
      "EXIF DigitalZoomRatio\n",
      "EXIF ExifImageLength\n",
      "EXIF ExifImageWidth\n",
      "EXIF ExifVersion\n",
      "EXIF ExposureBiasValue\n",
      "EXIF ExposureMode\n",
      "EXIF ExposureTime\n",
      "EXIF FNumber\n",
      "EXIF FileSource\n",
      "EXIF Flash\n",
      "EXIF FlashPixVersion\n",
      "EXIF FocalLength\n",
      "EXIF FocalPlaneResolutionUnit\n",
      "EXIF FocalPlaneXResolution\n",
      "EXIF FocalPlaneYResolution\n",
      "EXIF ISOSpeedRatings\n",
      "EXIF InteroperabilityOffset\n",
      "EXIF MakerNote\n",
      "EXIF MaxApertureValue\n",
      "EXIF MeteringMode\n",
      "EXIF SceneCaptureType\n",
      "EXIF SensingMethod\n",
      "EXIF SensitivityType\n",
      "EXIF ShutterSpeedValue\n",
      "EXIF UserComment\n",
      "EXIF WhiteBalance\n",
      "GPS GPSVersionID\n",
      "Image Artist\n",
      "Image Copyright\n",
      "Image DateTime\n",
      "Image ExifOffset\n",
      "Image GPSInfo\n",
      "Image ImageDescription\n",
      "Image Make\n",
      "Image Model\n",
      "Image Orientation\n",
      "Image ResolutionUnit\n",
      "Image XResolution\n",
      "Image YCbCrPositioning\n",
      "Image YResolution\n",
      "Interoperability InteroperabilityIndex\n",
      "Interoperability InteroperabilityVersion\n",
      "Interoperability RelatedImageLength\n",
      "Interoperability RelatedImageWidth\n",
      "JPEGThumbnail\n",
      "MakerNote AESetting\n",
      "MakerNote AFAreaMode\n",
      "MakerNote AFPointSelected\n",
      "MakerNote AFPointUsed\n",
      "MakerNote AspectInfo\n",
      "MakerNote CanonImageWidth\n",
      "MakerNote ContinuousDriveMode\n",
      "MakerNote Contrast\n",
      "MakerNote DateStampMode\n",
      "MakerNote DigitalZoom\n",
      "MakerNote EasyShootingMode\n",
      "MakerNote ExposureMode\n",
      "MakerNote FirmwareRevision\n",
      "MakerNote FirmwareVersion\n",
      "MakerNote FlashActivity\n",
      "MakerNote FlashBias\n",
      "MakerNote FlashDetails\n",
      "MakerNote FlashInfo\n",
      "MakerNote FlashMode\n",
      "MakerNote FocalUnitsPerMM\n",
      "MakerNote FocusMode\n",
      "MakerNote FocusType\n",
      "MakerNote ISO\n",
      "MakerNote ImageNumber\n",
      "MakerNote ImageSize\n",
      "MakerNote ImageStabilization\n",
      "MakerNote ImageType\n",
      "MakerNote ImageUniqueID\n",
      "MakerNote LensType\n",
      "MakerNote LongFocalLengthOfLensInFocalUnits\n",
      "MakerNote Macromode\n",
      "MakerNote ManualFlashOutput\n",
      "MakerNote MeteringMode\n",
      "MakerNote ModelID\n",
      "MakerNote NumAFPoints\n",
      "MakerNote Quality\n",
      "MakerNote RecordMode\n",
      "MakerNote Saturation\n",
      "MakerNote SelfTimer\n",
      "MakerNote SequenceNumber\n",
      "MakerNote Sharpness\n",
      "MakerNote ShortFocalLengthOfLensInFocalUnits\n",
      "MakerNote SlowShutter\n",
      "MakerNote SpotMeteringMode\n",
      "MakerNote SubjectDistance\n",
      "MakerNote Tag 0x0018\n",
      "MakerNote Tag 0x0019\n",
      "MakerNote Tag 0x001D\n",
      "MakerNote Tag 0x001F\n",
      "MakerNote Tag 0x0022\n",
      "MakerNote Tag 0x0023\n",
      "MakerNote Tag 0x0027\n",
      "MakerNote Tag 0x002D\n",
      "MakerNote Tag 0x002E\n",
      "MakerNote Tag 0x002F\n",
      "MakerNote Tag 0x0031\n",
      "MakerNote Tag 0x0032\n",
      "MakerNote Tag 0x0033\n",
      "MakerNote Tag 0x0035\n",
      "MakerNote Tag 0x00D0\n",
      "MakerNote ThumbnailImageValidArea\n",
      "MakerNote Unknown\n",
      "MakerNote ValidAFPoints\n",
      "MakerNote WhiteBalance\n",
      "Thumbnail Compression\n",
      "Thumbnail JPEGInterchangeFormat\n",
      "Thumbnail JPEGInterchangeFormatLength\n",
      "Thumbnail ResolutionUnit\n",
      "Thumbnail XResolution\n",
      "Thumbnail YResolution\n"
     ]
    }
   ],
   "source": [
    "img_path = os.path.join(os.environ['AUVSI_CV_DATA'], 'IMG_0411.jpg')\n",
    "with open(img_path, 'rb') as f:\n",
    "    tags = exifread.process_file(f)\n",
    "for tag in sorted(tags.keys()):\n",
    "    print tag"
   ]
  },
  {
   "cell_type": "code",
   "execution_count": 3,
   "metadata": {
    "collapsed": true
   },
   "outputs": [],
   "source": [
    "def tagRatio(tag):\n",
    "    ratio = tag.values[0].num/tag.values[0].den\n",
    "    return ratio\n",
    "\n",
    "def tagValue(tag):\n",
    "    return tag.values[0]"
   ]
  },
  {
   "cell_type": "code",
   "execution_count": 56,
   "metadata": {
    "collapsed": false
   },
   "outputs": [],
   "source": [
    "in_to_mm = 25.4\n",
    "FocalPlaneYResolution = tagRatio(tags['EXIF FocalPlaneYResolution'])\n",
    "FocalPlaneXResolution = tagRatio(tags['EXIF FocalPlaneXResolution'])\n",
    "ImageLength = tagValue(tags['EXIF ExifImageLength'])\n",
    "ImageWidth = tagValue(tags['EXIF ExifImageWidth'])\n",
    "FocalLength = tagRatio(tags['EXIF FocalLength'])"
   ]
  },
  {
   "cell_type": "code",
   "execution_count": 57,
   "metadata": {
    "collapsed": false
   },
   "outputs": [
    {
     "data": {
      "text/plain": [
       "(7.442200000000001, 5.588)"
      ]
     },
     "execution_count": 57,
     "metadata": {},
     "output_type": "execute_result"
    }
   ],
   "source": [
    "(ImageWidth/FocalPlaneXResolution*in_to_mm, ImageLength/FocalPlaneYResolution*in_to_mm)"
   ]
  },
  {
   "cell_type": "code",
   "execution_count": 58,
   "metadata": {
    "collapsed": false
   },
   "outputs": [],
   "source": [
    "f_x = FocalLength * FocalPlaneXResolution / in_to_mm\n",
    "f_y = FocalLength * FocalPlaneYResolution / in_to_mm\n",
    "K = np.array(((f_x, 0, ImageWidth/2), (0, f_y, ImageLength/2), (0, 0, 1)))"
   ]
  },
  {
   "cell_type": "code",
   "execution_count": 59,
   "metadata": {
    "collapsed": false
   },
   "outputs": [
    {
     "data": {
      "text/plain": [
       "array([[  6.85818710e+03,   0.00000000e+00,   2.00000000e+03],\n",
       "       [  0.00000000e+00,   6.85039370e+03,   1.50000000e+03],\n",
       "       [  0.00000000e+00,   0.00000000e+00,   1.00000000e+00]])"
      ]
     },
     "execution_count": 59,
     "metadata": {},
     "output_type": "execute_result"
    }
   ],
   "source": [
    "K"
   ]
  },
  {
   "cell_type": "code",
   "execution_count": 10,
   "metadata": {
    "collapsed": false
   },
   "outputs": [
    {
     "data": {
      "text/plain": [
       "(0x0132) ASCII=2015:02:26 10:24:22 @ 246"
      ]
     },
     "execution_count": 10,
     "metadata": {},
     "output_type": "execute_result"
    }
   ],
   "source": [
    "tags['Image DateTime']"
   ]
  },
  {
   "cell_type": "code",
   "execution_count": 8,
   "metadata": {
    "collapsed": false
   },
   "outputs": [
    {
     "data": {
      "text/plain": [
       "(0x9004) ASCII=2015:02:26 10:24:22 @ 716"
      ]
     },
     "execution_count": 8,
     "metadata": {},
     "output_type": "execute_result"
    }
   ],
   "source": [
    "tags['EXIF DateTimeDigitized']"
   ]
  },
  {
   "cell_type": "code",
   "execution_count": 9,
   "metadata": {
    "collapsed": false
   },
   "outputs": [
    {
     "data": {
      "text/plain": [
       "(0x9003) ASCII=2015:02:26 10:24:22 @ 696"
      ]
     },
     "execution_count": 9,
     "metadata": {},
     "output_type": "execute_result"
    }
   ],
   "source": [
    "tags['EXIF DateTimeOriginal']"
   ]
  },
  {
   "cell_type": "code",
   "execution_count": 12,
   "metadata": {
    "collapsed": false
   },
   "outputs": [
    {
     "name": "stdout",
     "output_type": "stream",
     "text": [
      "2015:02:26 10:24:22\n",
      "2015:02:26 10:24:23\n",
      "2015:02:26 10:24:24\n",
      "2015:02:26 10:24:24\n",
      "2015:02:26 10:24:25\n",
      "2015:02:26 10:24:26\n",
      "2015:02:26 10:24:27\n",
      "2015:02:26 10:24:28\n",
      "2015:02:26 10:24:28\n",
      "2015:02:26 10:24:29\n",
      "2015:02:26 10:24:30\n",
      "2015:02:26 10:24:31\n",
      "2015:02:26 10:24:32\n",
      "2015:02:26 10:24:33\n",
      "2015:02:26 10:24:33\n",
      "2015:02:26 10:24:34\n"
     ]
    }
   ],
   "source": [
    "img_paths = glob.glob(os.path.join(os.environ['AUVSI_CV_DATA'], '*.jpg'))\n",
    "\n",
    "for img_path in img_paths:\n",
    "    with open(img_path, 'rb') as f:\n",
    "        tags = exifread.process_file(f)\n",
    "    print tags['Image DateTime']"
   ]
  },
  {
   "cell_type": "code",
   "execution_count": null,
   "metadata": {
    "collapsed": true
   },
   "outputs": [],
   "source": []
  }
 ],
 "metadata": {
  "kernelspec": {
   "display_name": "Python 2",
   "language": "python",
   "name": "python2"
  },
  "language_info": {
   "codemirror_mode": {
    "name": "ipython",
    "version": 2
   },
   "file_extension": ".py",
   "mimetype": "text/x-python",
   "name": "python",
   "nbconvert_exporter": "python",
   "pygments_lexer": "ipython2",
   "version": "2.7.8"
  }
 },
 "nbformat": 4,
 "nbformat_minor": 0
}
